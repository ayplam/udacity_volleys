{
 "cells": [
  {
   "cell_type": "markdown",
   "metadata": {},
   "source": [
    "# Collaboration and Competition\n",
    "\n",
    "---\n",
    "\n",
    "In this notebook, you will learn how to use the Unity ML-Agents environment for the third project of the [Deep Reinforcement Learning Nanodegree](https://www.udacity.com/course/deep-reinforcement-learning-nanodegree--nd893) program.\n",
    "\n",
    "### 1. Start the Environment\n",
    "\n",
    "We begin by importing the necessary packages.  If the code cell below returns an error, please revisit the project instructions to double-check that you have installed [Unity ML-Agents](https://github.com/Unity-Technologies/ml-agents/blob/master/docs/Installation.md) and [NumPy](http://www.numpy.org/)."
   ]
  },
  {
   "cell_type": "code",
   "execution_count": null,
   "metadata": {},
   "outputs": [],
   "source": [
    "!pip install tqdm"
   ]
  },
  {
   "cell_type": "code",
   "execution_count": 1,
   "metadata": {},
   "outputs": [],
   "source": [
    "from unityagents import UnityEnvironment\n",
    "import numpy as np\n",
    "from collections import deque\n",
    "from tqdm import tqdm\n",
    "import torch\n",
    "from datetime import datetime\n",
    "from unityagents import UnityEnvironment\n",
    "import numpy as np\n",
    "from ddpg_agent import Agent\n",
    "from utils import append_to_file, write_json\n",
    "from sklearn.model_selection import ParameterGrid\n",
    "import json\n",
    "from pprint import pprint"
   ]
  },
  {
   "cell_type": "code",
   "execution_count": 2,
   "metadata": {},
   "outputs": [
    {
     "name": "stderr",
     "output_type": "stream",
     "text": [
      "INFO:unityagents:\n",
      "'Academy' started successfully!\n",
      "Unity Academy name: Academy\n",
      "        Number of Brains: 1\n",
      "        Number of External Brains : 1\n",
      "        Lesson number : 0\n",
      "        Reset Parameters :\n",
      "\t\t\n",
      "Unity brain name: TennisBrain\n",
      "        Number of Visual Observations (per agent): 0\n",
      "        Vector Observation space type: continuous\n",
      "        Vector Observation space size (per agent): 8\n",
      "        Number of stacked Vector Observation: 3\n",
      "        Vector Action space type: continuous\n",
      "        Vector Action space size (per agent): 2\n",
      "        Vector Action descriptions: , \n"
     ]
    }
   ],
   "source": [
    "env = UnityEnvironment(file_name=\"YOUR_APP_HERE\")"
   ]
  },
  {
   "cell_type": "code",
   "execution_count": 3,
   "metadata": {},
   "outputs": [],
   "source": [
    "# get the default brain\n",
    "brain_name = env.brain_names[0]\n",
    "brain = env.brains[brain_name]"
   ]
  },
  {
   "cell_type": "markdown",
   "metadata": {},
   "source": [
    "### 2. Examine the State and Action Spaces\n",
    "\n",
    "In this environment, two agents control rackets to bounce a ball over a net. If an agent hits the ball over the net, it receives a reward of +0.1.  If an agent lets a ball hit the ground or hits the ball out of bounds, it receives a reward of -0.01.  Thus, the goal of each agent is to keep the ball in play.\n",
    "\n",
    "The observation space consists of 8 variables corresponding to the position and velocity of the ball and racket. Two continuous actions are available, corresponding to movement toward (or away from) the net, and jumping. \n",
    "\n",
    "Run the code cell below to print some information about the environment."
   ]
  },
  {
   "cell_type": "code",
   "execution_count": 4,
   "metadata": {},
   "outputs": [
    {
     "name": "stdout",
     "output_type": "stream",
     "text": [
      "Number of agents: 2\n",
      "Size of each action: 2\n",
      "There are 2 agents. Each observes a state with length: 24\n",
      "The state for the first agent looks like: [ 0.          0.          0.          0.          0.          0.\n",
      "  0.          0.          0.          0.          0.          0.\n",
      "  0.          0.          0.          0.         -6.65278625 -1.5\n",
      " -0.          0.          6.83172083  6.         -0.          0.        ]\n"
     ]
    }
   ],
   "source": [
    "# reset the environment\n",
    "env_info = env.reset(train_mode=False)[brain_name]\n",
    "\n",
    "# number of agents \n",
    "num_agents = len(env_info.agents)\n",
    "print('Number of agents:', num_agents)\n",
    "\n",
    "# size of each action\n",
    "action_size = brain.vector_action_space_size\n",
    "print('Size of each action:', action_size)\n",
    "\n",
    "# examine the state space \n",
    "states = env_info.vector_observations\n",
    "state_size = states.shape[1]\n",
    "print('There are {} agents. Each observes a state with length: {}'.format(states.shape[0], state_size))\n",
    "print('The state for the first agent looks like:', states[0])"
   ]
  },
  {
   "cell_type": "markdown",
   "metadata": {},
   "source": [
    "## Train your agent based on a hyperparameter set"
   ]
  },
  {
   "cell_type": "code",
   "execution_count": null,
   "metadata": {},
   "outputs": [],
   "source": [
    "def train(hypes, n_episodes=4000, print_every=100, solved_rewards_threshold=0.5):\n",
    "\n",
    "    start_time = str(datetime.now())\n",
    "    best_score = -1\n",
    "    base_dir = f\"./hypes/run_{start_time}\"\n",
    "    agent = Agent(state_size=state_size, action_size=action_size, random_seed=param[\"seed_start\"], hypes=hypes)\n",
    "\n",
    "    try:\n",
    "        import os\n",
    "        os.makedirs(base_dir + \"/checkpoint\")\n",
    "        os.makedirs(base_dir + \"/final\")\n",
    "    except:\n",
    "        pass\n",
    "\n",
    "    hypes = {\n",
    "        \"ACTOR\": str(agent.actor_local).split(\"\\n\"),\n",
    "        \"CRITIC\": str(agent.critic_local).split(\"\\n\")\n",
    "    }\n",
    "    hypes.update(agent.hypes)\n",
    "\n",
    "    write_json(hypes, base_dir + \"/hypes.json\")\n",
    "\n",
    "    scores_deque = deque(maxlen=100)\n",
    "\n",
    "    scores = [] # actual score\n",
    "    avg_scores = [] # 100-episode average scores\n",
    "    pbar = tqdm(range(1, n_episodes + 1))\n",
    "    for i_episode in pbar:\n",
    "        pbar.set_description(f\"Average Score: {np.mean(scores_deque):.4f}\")\n",
    "\n",
    "        # Reset env and agent\n",
    "        env_info = env.reset(train_mode=True)[brain_name]\n",
    "        agent.reset()\n",
    "        score = np.zeros(num_agents)\n",
    "        states = env_info.vector_observations\n",
    "\n",
    "        while True:\n",
    "            # Get the SARS tuple\n",
    "\n",
    "            action = np.squeeze(np.array([agent.act(s, False) for s in states]))\n",
    "            env_info = env.step(action)[brain_name]\n",
    "            next_state = env_info.vector_observations\n",
    "            reward = env_info.rewards\n",
    "            done = env_info.local_done\n",
    "\n",
    "            for i in range(2):\n",
    "                agent.add_experiences(states[i], action[i], reward[i], next_state[i], done[i])\n",
    "\n",
    "            # Sample and learn\n",
    "            agent.learn()\n",
    "            states = next_state\n",
    "            score += np.array(reward)\n",
    "\n",
    "            if any(done):\n",
    "                break\n",
    "\n",
    "        # The score is defined as the best score between agents\n",
    "        agent_score = max(score)\n",
    "\n",
    "        scores_deque.append(agent_score)\n",
    "        scores.append(agent_score)\n",
    "\n",
    "        agent.decay_noise()\n",
    "\n",
    "        score_mean_tuple = (scores[-1], np.mean(scores_deque))\n",
    "        append_to_file(str(score_mean_tuple), base_dir + \"/run.txt\")\n",
    "\n",
    "        avg_scores.append(np.mean(scores_deque))\n",
    "\n",
    "        if np.mean(scores_deque) > solved_rewards_threshold:\n",
    "            print(\"The environment has been solved. Saving checkpoints\")\n",
    "            agent.save(base_dir + \"/final\")\n",
    "            break\n",
    "\n",
    "        if i_episode % print_every == 0:\n",
    "            tqdm.write('Episode {}\\tAverage Score: {:.4f}'.format(i_episode, np.mean(scores_deque)))\n",
    "            if avg_scores[-1] > best_score:\n",
    "                print(\"Best score has exceeded last average score {:.4f} vs {:.4f}\".format(best_score, avg_scores[-1]))\n",
    "                best_score = avg_scores[-1]\n",
    "\n",
    "                agent.save(base_dir + \"/checkpoint\")\n",
    "\n",
    "    return i_episode, base_dir\n"
   ]
  },
  {
   "cell_type": "markdown",
   "metadata": {},
   "source": [
    "## Run your agent across multiple hyperparameters\n",
    "* Change hypes_search to different values to see how your agent performs!"
   ]
  },
  {
   "cell_type": "code",
   "execution_count": null,
   "metadata": {},
   "outputs": [],
   "source": [
    "def hypes_search():\n",
    "    return {\n",
    "        \"LR_ACTOR\": [1e-4],\n",
    "        \"LR_CRITIC\": [1e-3, 5e-4],\n",
    "        \"GAMMA\": [0.99],\n",
    "        \"TAU\": [1e-2, 1e-3],\n",
    "        \"BUFFER_SIZE\": [1e5, 1e6],\n",
    "        \"BATCH_SIZE\": [128],\n",
    "        \"eps_decay\": [0, 0.98],\n",
    "        \"network_size\": [256, 128],\n",
    "        \"seed_start\": [2, 10]\n",
    "    }\n",
    "\n",
    "param_grid = hypes_search()\n",
    "grid_start = str(datetime.now())\n",
    "for param in ParameterGrid(param_grid):\n",
    "    best_score, location = train(param)\n",
    "    param[\"env_solved_episodes\"] = best_score\n",
    "    param[\"output_path\"] = location\n",
    "\n",
    "    pprint(param)\n",
    "\n",
    "    append_to_file(json.dumps(param), \"hypes/\" + grid_start + \" hype_output.txt\")\n",
    "    # Add a break in case you want to just train one agent\n",
    "    # break\n"
   ]
  },
  {
   "cell_type": "markdown",
   "metadata": {},
   "source": [
    "# Watch the Agent"
   ]
  },
  {
   "cell_type": "code",
   "execution_count": null,
   "metadata": {},
   "outputs": [],
   "source": [
    "## Load the fastest converging agent\n",
    "best_base = \"./hypes/run_2018-12-20 15:05:11.127599\"\n",
    "best_params_file = best_base + \"/hypes.json\"\n",
    "best_params_models = best_base + \"/final\"\n",
    "with open(best_params_file, \"r\") as f:\n",
    "    best_params = json.load(f)\n",
    "agent = Agent(state_size=state_size, action_size=action_size, random_seed=2, hypes=best_params)\n",
    "agent.load(best_params_models)"
   ]
  },
  {
   "cell_type": "code",
   "execution_count": null,
   "metadata": {},
   "outputs": [],
   "source": [
    "from ddpg_agent import Agent\n",
    "import torch\n",
    "\n",
    "\n",
    "full_scores = []\n",
    "for _ in range(5):\n",
    "    env_info = env.reset(train_mode=False)[brain_name]     # reset the environment    \n",
    "    states = env_info.vector_observations                  # get the current state (for each agent)\n",
    "    agent.reset()\n",
    "\n",
    "    score = np.zeros(num_agents)\n",
    "    while True:\n",
    "        \n",
    "        states = env_info.vector_observations\n",
    "        actions = np.squeeze(np.array([agent.act(s, False) for s in states]))\n",
    "        env_info = env.step(actions)[brain_name]\n",
    "        next_states = env_info.vector_observations\n",
    "        rewards = env_info.rewards        \n",
    "        score += env_info.rewards\n",
    "        dones = env_info.local_done\n",
    "        if np.any(dones):\n",
    "            break\n",
    "    \n",
    "    print(np.max(score))\n"
   ]
  }
 ],
 "metadata": {
  "kernelspec": {
   "display_name": "udacity_deeprl",
   "language": "python",
   "name": "udacity"
  },
  "language_info": {
   "codemirror_mode": {
    "name": "ipython",
    "version": 3
   },
   "file_extension": ".py",
   "mimetype": "text/x-python",
   "name": "python",
   "nbconvert_exporter": "python",
   "pygments_lexer": "ipython3",
   "version": "3.6.7"
  }
 },
 "nbformat": 4,
 "nbformat_minor": 2
}
